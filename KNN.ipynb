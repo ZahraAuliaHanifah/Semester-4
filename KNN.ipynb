{
 "cells": [
  {
   "cell_type": "code",
   "execution_count": 9,
   "id": "88b6608c-5817-465e-bcfa-e8b570765b7d",
   "metadata": {},
   "outputs": [
    {
     "name": "stdout",
     "output_type": "stream",
     "text": [
      "Akurasi: 1.0\n",
      "Hasil Prediksi:\n",
      "Data test 1: Kelas prediksi = Terima\n"
     ]
    }
   ],
   "source": [
    "X_train = [[40,5,60], [50,8,40], [50,7,30],[70,4,60],[80,4,80],[60,6,60]]\n",
    "y_train = ['Tolak', 'Terima', 'Tolak','Terima','Terima','Terima']\n",
    "\n",
    "knn = KNeighborsClassifier(n_neighbors=2)\n",
    "\n",
    "knn.fit(X_train, y_train)\n",
    "\n",
    "X_test = [[50,3,40]]\n",
    "y_test = ['Terima']\n",
    "\n",
    "predictions = knn.predict(X_test)\n",
    "\n",
    "accuracy = knn.score(X_test, y_test)\n",
    "print(\"Akurasi:\", accuracy)\n",
    "\n",
    "print(\"Hasil Prediksi:\")\n",
    "for i, pred in enumerate(predictions):\n",
    "    print(f\"Data test {i+1}: Kelas prediksi = {pred}\")"
   ]
  },
  {
   "cell_type": "code",
   "execution_count": 10,
   "id": "777728af-5e81-4cf2-8bfa-1b1a41293315",
   "metadata": {},
   "outputs": [
    {
     "name": "stdout",
     "output_type": "stream",
     "text": [
      "Akurasi: 1.0\n",
      "Hasil Prediksi:\n",
      "Data test 1: Kelas prediksi = Terima\n"
     ]
    }
   ],
   "source": [
    "X_train = [[40,5,60], [50,8,40], [50,7,30],[70,4,60],[80,4,80],[60,6,60]]\n",
    "y_train = ['Tolak', 'Terima', 'Tolak','Terima','Terima','Terima']\n",
    "\n",
    "knn = KNeighborsClassifier(n_neighbors=5)\n",
    "\n",
    "knn.fit(X_train, y_train)\n",
    "\n",
    "X_test = [[50,3,40]]\n",
    "y_test = ['Terima']\n",
    "\n",
    "predictions = knn.predict(X_test)\n",
    "\n",
    "accuracy = knn.score(X_test, y_test)\n",
    "print(\"Akurasi:\", accuracy)\n",
    "\n",
    "print(\"Hasil Prediksi:\")\n",
    "for i, pred in enumerate(predictions):\n",
    "    print(f\"Data test {i+1}: Kelas prediksi = {pred}\")"
   ]
  },
  {
   "cell_type": "code",
   "execution_count": null,
   "id": "f22f3cbd-6320-49ba-8d5f-f526b63ad2da",
   "metadata": {},
   "outputs": [],
   "source": []
  }
 ],
 "metadata": {
  "kernelspec": {
   "display_name": "Python 3 (ipykernel)",
   "language": "python",
   "name": "python3"
  },
  "language_info": {
   "codemirror_mode": {
    "name": "ipython",
    "version": 3
   },
   "file_extension": ".py",
   "mimetype": "text/x-python",
   "name": "python",
   "nbconvert_exporter": "python",
   "pygments_lexer": "ipython3",
   "version": "3.11.7"
  }
 },
 "nbformat": 4,
 "nbformat_minor": 5
}
