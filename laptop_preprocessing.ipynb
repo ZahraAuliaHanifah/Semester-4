{
  "nbformat": 4,
  "nbformat_minor": 0,
  "metadata": {
    "colab": {
      "provenance": []
    },
    "kernelspec": {
      "name": "python3",
      "display_name": "Python 3"
    },
    "language_info": {
      "name": "python"
    }
  },
  "cells": [
    {
      "cell_type": "code",
      "execution_count": 52,
      "metadata": {
        "id": "JjzoaQoBfVyx"
      },
      "outputs": [],
      "source": [
        "from pyspark.sql import SparkSession\n",
        "spark = SparkSession.builder.appName('boneka popeye').getOrCreate()\n"
      ]
    },
    {
      "cell_type": "code",
      "source": [
        "df = spark.read.csv('/content/sample_data/Jual boneka popeye.csv', header = True, inferSchema = True)\n",
        "df.show(100)"
      ],
      "metadata": {
        "colab": {
          "base_uri": "https://localhost:8080/"
        },
        "id": "xpReHf4ifhwE",
        "outputId": "9da6d90f-8e14-49a4-a1a9-7e7f712750aa"
      },
      "execution_count": 53,
      "outputs": [
        {
          "output_type": "stream",
          "name": "stdout",
          "text": [
            "+---------------------+------+-------------+----------------+\n",
            "|          Nama Produk| Harga|      Terjual|          Lokasi|\n",
            "+---------------------+------+-------------+----------------+\n",
            "| Boneka Popeye dan...|  55.0|   86 Terjual|   Jakarta Pusat|\n",
            "| Boneka Popeye The...|  58.5|    1 Terjual|   Jakarta Barat|\n",
            "|   Boneka Popeye uk L|  65.0|   18 Terjual|   Jakarta Pusat|\n",
            "| CBT Boneka Popeye...| 61.38|   22 Terjual|        Surabaya|\n",
            "|           BONEKA 3kg|  59.0|   21 Terjual|    Kab. Bandung|\n",
            "| Boneka Popeye kec...|  40.0|   11 Terjual|   Jakarta Utara|\n",
            "| Boneka Popeye Unisex|  35.0|         NULL|          Bekasi|\n",
            "| Boneka Popeye Bes...|  55.0|    2 Terjual|   Jakarta Utara|\n",
            "| Boneka Beruang Te...|  55.5|10RB+ Terjual|            NULL|\n",
            "| [FREE ONGKIR] Dor...| 89.25|  156 Terjual|   Jakarta Pusat|\n",
            "| BONEKA POPEYE & O...|  62.7|    7 Terjual|   Kab. Boyolali|\n",
            "| boneka popeye ata...|  75.0|    7 Terjual|Surakarta (Solo)|\n",
            "| Boneka Popeye TNI...| 190.0|   27 Terjual|     Kab. Kediri|\n",
            "| Boneka Popeye The...|  58.5|         NULL|   Jakarta Barat|\n",
            "| boneka popeye ori...| 125.0|         NULL|   Jakarta Barat|\n",
            "|       Popeye - Olive|  43.0|  300 Terjual|        Surabaya|\n",
            "| Boneka popeye oli...|  97.0|    8 Terjual|   Kab. Karawang|\n",
            "| Boneka Popeye - O...|  68.0|    1 Terjual|        Surabaya|\n",
            "| Boneka punggung P...|  75.0|         NULL|   Jakarta Utara|\n",
            "| Boneka Popaye Bah...|  55.0|         NULL|        Surabaya|\n",
            "| Boneka Popeye Wim...|  45.0|         NULL|         Bandung|\n",
            "| Dreamtoys96 Bonek...|  66.0|    2 Terjual|        Surabaya|\n",
            "| BONEKA POPEYE OLI...|  50.3|    1 Terjual|     Kab. Madiun|\n",
            "| Boneka Popeye Paj...|  70.0|    3 Terjual|   Jakarta Pusat|\n",
            "| Boneka Popeye Pel...| 120.0|         NULL|   Jakarta Pusat|\n",
            "| Boneka Popeye dan...| 225.0|         NULL|   Jakarta Timur|\n",
            "|        Boneka Popeye| 140.0|         NULL|   Kab. Sukabumi|\n",
            "| Boneka popeye vin...| 350.0|         NULL|   Kab. Banyumas|\n",
            "| boneka popeye uku...|  65.0|         NULL|          Padang|\n",
            "| Boneka Olive Pope...| 275.0|         NULL|       Tangerang|\n",
            "| Boneka couple plu...| 350.0|         NULL|          Padang|\n",
            "|     Pl boneka popaye|  35.0|         NULL|           Medan|\n",
            "| Boneka ular bahan...|  13.5|  868 Terjual|   Kab. Karawang|\n",
            "| Boneka Beruang Te...|  62.9|10RB+ Terjual|            NULL|\n",
            "| Mainan Anak Bonek...|94.999|    7 Terjual|          Bekasi|\n",
            "|        Boneka popeye|  60.0|         NULL|        Surabaya|\n",
            "| Boneka Putri Duyu...|  50.0|  1RB Terjual|          Bekasi|\n",
            "| Boneka Miki Mini ...|  24.5|  2RB Terjual|          Bekasi|\n",
            "| MURAH!! Boneka ul...|  13.5|3,8RB Terjual|   Kab. Karawang|\n",
            "| Boneka Jumbo Tedd...|  83.9|10RB+ Terjual|  Kab. Mojokerto|\n",
            "| (Rumah Grosir) Bo...|  57.0|  287 Terjual|   Jakarta Utara|\n",
            "| Boneka cindy size...|  16.5|6,3RB Terjual|   Kab. Karawang|\n",
            "| Boneka Mickey minnie|  33.0|1,6RB Terjual|          Bekasi|\n",
            "| Boneka bunny keli...|  29.0|  849 Terjual|     Kab. Bekasi|\n",
            "| Boneka Mickey Min...|  31.2|  139 Terjual|          Bekasi|\n",
            "| Boneka Monkey Bon...|  28.0|  186 Terjual|          Bekasi|\n",
            "| Mainan Boneka Luc...|  30.0|10RB+ Terjual|          Bekasi|\n",
            "| PROMO!!!BONEKA UL...|  10.2|1,1RB Terjual|   Kab. Karawang|\n",
            "| Boneka Singa/Hari...|  54.9|   18 Terjual|    Kab. Bandung|\n",
            "| Boneka Landak Kar...|  30.0|1,9RB Terjual|          Bekasi|\n",
            "|【Produk Populer 2...| 199.0|   76 Terjual|       Tangerang|\n",
            "| Boneka Rimuru Sli...|  19.0|6,1RB Terjual|            NULL|\n",
            "| 40cm Boneka Pomni...|  35.0|2,2RB Terjual|          Bekasi|\n",
            "| Boneka Serigala/F...|  65.0|  244 Terjual|   Jakarta Barat|\n",
            "| Boneka New Bear L...|  94.5|  5RB Terjual|     Kab. Bekasi|\n",
            "| Boneka Monkey Bon...|  30.0|1,7RB Terjual|            NULL|\n",
            "| Boneka Gajah Dudu...|  31.5|  379 Terjual|          Bekasi|\n",
            "| Boneka Sapi Stand...|  33.0|5,4RB Terjual|          Bekasi|\n",
            "| Boneka Roblox Gam...| 32.05|3,8RB Terjual|          Bekasi|\n",
            "| Boneka Paus biru ...|  38.5|    1 Terjual|          Bekasi|\n",
            "| Boneka Monkey Bon...|  30.0|1,7RB Terjual|            NULL|\n",
            "| Boneka New Bear L...|  94.5|  5RB Terjual|     Kab. Bekasi|\n",
            "| BONEKA BABY HIU S...|26.997|5,5RB Terjual|          Bekasi|\n",
            "| Boneka Kawaii Hiu...|  41.0|4,3RB Terjual|            NULL|\n",
            "| Mainan Boneka Por...|  25.0|10RB+ Terjual|          Bekasi|\n",
            "| Boneka Bantal Emo...|  35.0|1,8RB Terjual|          Bekasi|\n",
            "| 40cm Boneka Pomni...|  35.0|2,2RB Terjual|          Bekasi|\n",
            "| Boneka Tangan Kar...|14.875|10RB+ Terjual|      Kab. Bogor|\n",
            "| Boneka Mommy Dadd...|  25.0|  2RB Terjual|          Bekasi|\n",
            "|        Boneka Tangan|  12.0|10RB+ Terjual|   Jakarta Timur|\n",
            "| Boneka Teletubbie...|  33.0|2,6RB Terjual|          Bekasi|\n",
            "| Boneka Didi And F...|  26.5|   74 Terjual|          Bekasi|\n",
            "| Boneka Ikan Hiu M...|  59.0|  120 Terjual|          Cimahi|\n",
            "| Boneka Kawaii Hiu...|  41.0|  198 Terjual|          Bekasi|\n",
            "| Sepasang boneka I...|  34.0|4,6RB Terjual|   Kab. Karawang|\n",
            "|                 NULL|  NULL|         NULL|            NULL|\n",
            "|                 NULL|  NULL|         NULL|            NULL|\n",
            "|                 NULL|  NULL|         NULL|            NULL|\n",
            "|                 NULL|  NULL|         NULL|            NULL|\n",
            "|                 NULL|  NULL|         NULL|            NULL|\n",
            "|                 NULL|  NULL|         NULL|            NULL|\n",
            "|                 NULL|  NULL|         NULL|            NULL|\n",
            "|                 NULL|  NULL|         NULL|            NULL|\n",
            "|                 NULL|  NULL|         NULL|            NULL|\n",
            "|                 NULL|  NULL|         NULL|            NULL|\n",
            "|                 NULL|  NULL|         NULL|            NULL|\n",
            "|                 NULL|  NULL|         NULL|            NULL|\n",
            "|                 NULL|  NULL|         NULL|            NULL|\n",
            "|                 NULL|  NULL|         NULL|            NULL|\n",
            "|                 NULL|  NULL|         NULL|            NULL|\n",
            "|                 NULL|  NULL|         NULL|            NULL|\n",
            "|                 NULL|  NULL|         NULL|            NULL|\n",
            "|                 NULL|  NULL|         NULL|            NULL|\n",
            "|                 NULL|  NULL|         NULL|            NULL|\n",
            "|                 NULL|  NULL|         NULL|            NULL|\n",
            "|                 NULL|  NULL|         NULL|            NULL|\n",
            "|                 NULL|  NULL|         NULL|            NULL|\n",
            "|                 NULL|  NULL|         NULL|            NULL|\n",
            "|                 NULL|  NULL|         NULL|            NULL|\n",
            "|                 NULL|  NULL|         NULL|            NULL|\n",
            "+---------------------+------+-------------+----------------+\n",
            "only showing top 100 rows\n",
            "\n"
          ]
        }
      ]
    },
    {
      "cell_type": "code",
      "source": [
        "df_cleaned = df.dropDuplicates()\n",
        "df.show()"
      ],
      "metadata": {
        "colab": {
          "base_uri": "https://localhost:8080/"
        },
        "id": "Ad9U0y_7gAiY",
        "outputId": "de0bb0f7-5394-48fb-9337-0ea8b541dd82"
      },
      "execution_count": 54,
      "outputs": [
        {
          "output_type": "stream",
          "name": "stdout",
          "text": [
            "+--------------------+-----+-------------+----------------+\n",
            "|         Nama Produk|Harga|      Terjual|          Lokasi|\n",
            "+--------------------+-----+-------------+----------------+\n",
            "|Boneka Popeye dan...| 55.0|   86 Terjual|   Jakarta Pusat|\n",
            "|Boneka Popeye The...| 58.5|    1 Terjual|   Jakarta Barat|\n",
            "|  Boneka Popeye uk L| 65.0|   18 Terjual|   Jakarta Pusat|\n",
            "|CBT Boneka Popeye...|61.38|   22 Terjual|        Surabaya|\n",
            "|          BONEKA 3kg| 59.0|   21 Terjual|    Kab. Bandung|\n",
            "|Boneka Popeye kec...| 40.0|   11 Terjual|   Jakarta Utara|\n",
            "|Boneka Popeye Unisex| 35.0|         NULL|          Bekasi|\n",
            "|Boneka Popeye Bes...| 55.0|    2 Terjual|   Jakarta Utara|\n",
            "|Boneka Beruang Te...| 55.5|10RB+ Terjual|            NULL|\n",
            "|[FREE ONGKIR] Dor...|89.25|  156 Terjual|   Jakarta Pusat|\n",
            "|BONEKA POPEYE & O...| 62.7|    7 Terjual|   Kab. Boyolali|\n",
            "|boneka popeye ata...| 75.0|    7 Terjual|Surakarta (Solo)|\n",
            "|Boneka Popeye TNI...|190.0|   27 Terjual|     Kab. Kediri|\n",
            "|Boneka Popeye The...| 58.5|         NULL|   Jakarta Barat|\n",
            "|boneka popeye ori...|125.0|         NULL|   Jakarta Barat|\n",
            "|      Popeye - Olive| 43.0|  300 Terjual|        Surabaya|\n",
            "|Boneka popeye oli...| 97.0|    8 Terjual|   Kab. Karawang|\n",
            "|Boneka Popeye - O...| 68.0|    1 Terjual|        Surabaya|\n",
            "|Boneka punggung P...| 75.0|         NULL|   Jakarta Utara|\n",
            "|Boneka Popaye Bah...| 55.0|         NULL|        Surabaya|\n",
            "+--------------------+-----+-------------+----------------+\n",
            "only showing top 20 rows\n",
            "\n"
          ]
        }
      ]
    },
    {
      "cell_type": "code",
      "source": [
        "df_cleaned = df_cleaned.na.drop()\n",
        "df_cleaned.show(100)"
      ],
      "metadata": {
        "colab": {
          "base_uri": "https://localhost:8080/"
        },
        "id": "4L7ZT3CugRRd",
        "outputId": "91769260-05cc-4cfb-c1bf-b74c213bee5f"
      },
      "execution_count": 55,
      "outputs": [
        {
          "output_type": "stream",
          "name": "stdout",
          "text": [
            "+---------------------+------+-------------+------------------+\n",
            "|          Nama Produk| Harga|      Terjual|            Lokasi|\n",
            "+---------------------+------+-------------+------------------+\n",
            "| Boneka Miki Mini ...|  32.5|1,3RB Terjual|       Kab. Bekasi|\n",
            "| Sepasang boneka I...|  34.0|4,6RB Terjual|     Kab. Karawang|\n",
            "| BONEKA SESAME/BON...|  95.0|   22 Terjual|  Surakarta (Solo)|\n",
            "| Boneka Putri Duyu...|  52.0|  318 Terjual|            Bekasi|\n",
            "| 40cm Boneka Pomni...|  35.0|2,2RB Terjual|            Bekasi|\n",
            "| Mainan Anak Bonek...|  58.0|   12 Terjual|     Jakarta Utara|\n",
            "| Boneka ular bahan...|  13.5|  868 Terjual|     Kab. Karawang|\n",
            "| Boneka Popeye Paj...|  70.0|    3 Terjual|     Jakarta Pusat|\n",
            "| Boneka Jumbo Tedd...|  83.9|10RB+ Terjual|    Kab. Mojokerto|\n",
            "| Boneka Miki Mini ...|  33.0|  459 Terjual|            Bekasi|\n",
            "| Mainan Boneka Lan...|  26.0|  887 Terjual|            Bekasi|\n",
            "| Mainan Boneka Luc...|  30.0|10RB+ Terjual|            Bekasi|\n",
            "| PROMO!!!BONEKA UL...|  10.2|1,1RB Terjual|     Kab. Karawang|\n",
            "| Boneka Paus biru ...|  38.5|    1 Terjual|            Bekasi|\n",
            "| Bantal Boneka Emo...|  32.0|  659 Terjual|            Bekasi|\n",
            "| Boneka Popeye dan...|  55.0|   86 Terjual|     Jakarta Pusat|\n",
            "| Mainan Naga Susu ...|  32.0|4,6RB Terjual|    Kab. Tangerang|\n",
            "| Boneka cindy size...|  16.5|6,3RB Terjual|     Kab. Karawang|\n",
            "| Boneka Serigala/F...|  65.0|  244 Terjual|     Jakarta Barat|\n",
            "| Mainan Boneka Kay...|  19.9|   64 Terjual|     Jakarta Utara|\n",
            "| Boneka Popeye kec...|  40.0|   11 Terjual|     Jakarta Utara|\n",
            "| Dreamtoys96 Bonek...|  66.0|    2 Terjual|          Surabaya|\n",
            "| Boneka Popeye Bes...|  55.0|    2 Terjual|     Jakarta Utara|\n",
            "|【Produk Populer 2...| 199.0|   76 Terjual|         Tangerang|\n",
            "| Boneka adat Nusan...|  12.0|1,3RB Terjual|     Kab. Banyumas|\n",
            "| Boneka Ikan Nemo ...|  30.0|  296 Terjual|            Bekasi|\n",
            "| (Rumah Grosir) Bo...|  57.0|  287 Terjual|     Jakarta Utara|\n",
            "| Boneka Miki Mini ...|  24.5|  2RB Terjual|            Bekasi|\n",
            "| Boneka Ikan Hiu M...|  59.0|  120 Terjual|            Cimahi|\n",
            "| BONEKA POPEYE & O...|  62.7|    7 Terjual|     Kab. Boyolali|\n",
            "| Mainan Anak Bonek...|94.999|    7 Terjual|            Bekasi|\n",
            "| Boneka New Bear L...|  94.5|  5RB Terjual|       Kab. Bekasi|\n",
            "|      Boneka Le Sucre|  60.0|    2 Terjual|          Denpasar|\n",
            "| Boneka Teletubbie...|  33.0|2,6RB Terjual|            Bekasi|\n",
            "| Boneka Macan Tige...|  37.0|  551 Terjual|            Bekasi|\n",
            "| Boneka Singa/Hari...|  54.9|   18 Terjual|      Kab. Bandung|\n",
            "| Mainan Anak karak...|  49.5|2,5RB Terjual|            Bekasi|\n",
            "| 30cm / 60cm / 80c...|  59.0|  164 Terjual|            Cimahi|\n",
            "| Boneka Mickey minnie|  33.0|1,6RB Terjual|            Bekasi|\n",
            "| BONEKA SHEEP TIMM...|  55.9|   77 Terjual|Kab. Bandung Barat|\n",
            "| Boneka Landak Kar...|  30.0|1,9RB Terjual|            Bekasi|\n",
            "| boneka  kambing d...|  90.0|  525 Terjual|     Kab. Karawang|\n",
            "| boneka popeye ata...|  75.0|    7 Terjual|  Surakarta (Solo)|\n",
            "| Boneka Putri Duyu...|  50.0|  1RB Terjual|            Bekasi|\n",
            "| boneka bear cocok...|  10.0|10RB+ Terjual|       Tasikmalaya|\n",
            "| ANPAMAN TEMAN ANP...|  60.0|   41 Terjual|     Jakarta Timur|\n",
            "| Boneka Roblox Gam...| 32.05|3,8RB Terjual|            Bekasi|\n",
            "| Boneka candy kepa...|  30.0|   27 Terjual|     Jakarta Utara|\n",
            "| Boneka Didi And F...|  26.5|   74 Terjual|            Bekasi|\n",
            "| Boneka Kawaii Hiu...|  41.0|  198 Terjual|            Bekasi|\n",
            "|        Boneka Tangan|  12.0|10RB+ Terjual|     Jakarta Timur|\n",
            "| BONEKA FLANEL PRO...|  18.0|  185 Terjual|            Bekasi|\n",
            "| MURAH!! Boneka ul...|  13.5|3,8RB Terjual|     Kab. Karawang|\n",
            "| dadu jumbo flanel...|  17.0|1,3RB Terjual|      Kab. Jombang|\n",
            "| Boneka popeye oli...|  97.0|    8 Terjual|     Kab. Karawang|\n",
            "| Boneka Popeye The...|  58.5|    1 Terjual|     Jakarta Barat|\n",
            "| Nota Live Boneka ...|  94.7|  842 Terjual|     Jakarta Barat|\n",
            "| Boneka ULIL ALPHA...|  31.0|  366 Terjual|            Bekasi|\n",
            "| Boneka bantal kuc...|  37.5|3,8RB Terjual|       Kab. Bekasi|\n",
            "| Boneka Popeye TNI...| 190.0|   27 Terjual|       Kab. Kediri|\n",
            "| Mainan Boneka  Po...|  21.8|3,6RB Terjual|            Bekasi|\n",
            "|   Boneka Popeye uk L|  65.0|   18 Terjual|     Jakarta Pusat|\n",
            "| [FREE ONGKIR] Dor...| 89.25|  156 Terjual|     Jakarta Pusat|\n",
            "| Boneka Tangan Kar...|14.875|10RB+ Terjual|        Kab. Bogor|\n",
            "| Boneka Dinosaurus...|  46.9|8,7RB Terjual|            Bekasi|\n",
            "| Mainan Boneka Por...|  25.0|10RB+ Terjual|            Bekasi|\n",
            "| Boneka CJ 7 kecil...|  32.5|  649 Terjual|     Jakarta Barat|\n",
            "|       Popeye - Olive|  43.0|  300 Terjual|          Surabaya|\n",
            "| Boneka Mickey Min...|  31.2|  139 Terjual|            Bekasi|\n",
            "| Boneka Shaun The ...|  34.0|    9 Terjual|            Bekasi|\n",
            "| Boneka Bantal Emo...|  35.0|1,8RB Terjual|            Bekasi|\n",
            "| Boneka Monkey Ike...|  32.0|  846 Terjual|            Bekasi|\n",
            "| Boneka unta padan...| 145.0|2,8RB Terjual|     Kab. Karawang|\n",
            "| Boneka Mommy Dadd...|  25.0|  2RB Terjual|            Bekasi|\n",
            "| 7 boneka kurcaci ...|  69.7|   67 Terjual|     Kab. Sidoarjo|\n",
            "| Boneka Monyet Gibbon|  45.0|    8 Terjual|     Jakarta Pusat|\n",
            "| CBT Boneka Popeye...| 61.38|   22 Terjual|          Surabaya|\n",
            "| Boneka 30 - 100 +...| 118.0|  258 Terjual|        Yogyakarta|\n",
            "| Boneka bayi / bon...|  39.8|6,7RB Terjual|            Malang|\n",
            "| BONEKA BABY HIU S...|26.997|5,5RB Terjual|            Bekasi|\n",
            "| Boneka Donald Duc...|  49.4|   65 Terjual|          Surabaya|\n",
            "| Boneka bunny keli...|  29.0|  849 Terjual|       Kab. Bekasi|\n",
            "| Boneka Monkey Bon...|  28.0|  186 Terjual|            Bekasi|\n",
            "| Boneka Popeye - O...|  68.0|    1 Terjual|          Surabaya|\n",
            "| BONEKA KECIL / GANCI|  35.5|    9 Terjual|     Jakarta Utara|\n",
            "| Boneka Tentara / ...|  60.0|  691 Terjual|   Jakarta Selatan|\n",
            "| READY BONEKA PROF...|29.999|1,4RB Terjual|      Kab. Bandung|\n",
            "| Boneka Sapi Stand...|  33.0|5,4RB Terjual|            Bekasi|\n",
            "| BONEKA POPEYE OLI...|  50.3|    1 Terjual|       Kab. Madiun|\n",
            "| Boneka Ular Cokel...|  10.7|  903 Terjual|     Kab. Karawang|\n",
            "| Boneka teman anpa...|  85.0|   13 Terjual|       Kab. Kediri|\n",
            "| BONEKA UNICORN Sa...|  64.5|  387 Terjual|            Bekasi|\n",
            "| Boneka Kelinci An...|  85.0|  133 Terjual|     Jakarta Pusat|\n",
            "| Boneka Gajah Dudu...|  31.5|  379 Terjual|            Bekasi|\n",
            "| Boneka Profesi Pe...|  60.0|    8 Terjual|        Kab. Demak|\n",
            "|           BONEKA 3kg|  59.0|   21 Terjual|      Kab. Bandung|\n",
            "+---------------------+------+-------------+------------------+\n",
            "\n"
          ]
        }
      ]
    },
    {
      "cell_type": "code",
      "source": [
        "from os import truncate\n",
        "from pyspark.sql.functions import regexp_replace, when, col\n",
        "\n",
        "# Step 1: Bersihkan koma (ganti ke titik) dan hapus \"Terjual\" dan \"++\"\n",
        "df_cleaned = df_cleaned.withColumn(\n",
        "    \"Terjual\",\n",
        "    regexp_replace(col(\"Terjual\"), r\",\", \".\")  # koma jadi titik\n",
        ").withColumn(\n",
        "    \"Terjual\",\n",
        "    regexp_replace(col(\"Terjual\"), r\"(\\s*Terjual|\\+)\", \"\")  # hapus \"Terjual\" dan \"++\"\n",
        ")\n",
        "\n",
        "# Step 2: Tangani \"RB\"\n",
        "df_cleaned = df_cleaned.withColumn(\n",
        "    \"Terjual\",\n",
        "    when(\n",
        "        col(\"Terjual\").rlike(\"(?i)RB\"),  # kalau ada RB\n",
        "        (regexp_replace(col(\"Terjual\"), \"(?i)RB\", \"\").cast(\"float\") * 1000).cast(\"int\")\n",
        "    ).otherwise(\n",
        "        col(\"Terjual\").cast(\"int\")  # kalau tidak ada RB\n",
        "    )\n",
        ")\n",
        "\n",
        "df_cleaned = df_cleaned.withColumn(\n",
        "    \"Harga\",\n",
        "    regexp_replace(col(\"Harga\"), r\"\\.\", \"\").cast(\"int\")\n",
        ")\n",
        "\n",
        "df_cleaned.show(100)"
      ],
      "metadata": {
        "colab": {
          "base_uri": "https://localhost:8080/"
        },
        "id": "e7USwj5Dqj_D",
        "outputId": "7edf3269-36a3-47b9-8109-5b598acaa15d"
      },
      "execution_count": 57,
      "outputs": [
        {
          "output_type": "stream",
          "name": "stdout",
          "text": [
            "+---------------------+-----+-------+------------------+\n",
            "|          Nama Produk|Harga|Terjual|            Lokasi|\n",
            "+---------------------+-----+-------+------------------+\n",
            "| Boneka Miki Mini ...|  325|   1300|       Kab. Bekasi|\n",
            "| Sepasang boneka I...|  340|   4600|     Kab. Karawang|\n",
            "| BONEKA SESAME/BON...|  950|     22|  Surakarta (Solo)|\n",
            "| Boneka Putri Duyu...|  520|    318|            Bekasi|\n",
            "| 40cm Boneka Pomni...|  350|   2200|            Bekasi|\n",
            "| Mainan Anak Bonek...|  580|     12|     Jakarta Utara|\n",
            "| Boneka ular bahan...|  135|    868|     Kab. Karawang|\n",
            "| Boneka Popeye Paj...|  700|      3|     Jakarta Pusat|\n",
            "| Boneka Jumbo Tedd...|  839|  10000|    Kab. Mojokerto|\n",
            "| Boneka Miki Mini ...|  330|    459|            Bekasi|\n",
            "| Mainan Boneka Lan...|  260|    887|            Bekasi|\n",
            "| Mainan Boneka Luc...|  300|  10000|            Bekasi|\n",
            "| PROMO!!!BONEKA UL...|  102|   1100|     Kab. Karawang|\n",
            "| Boneka Paus biru ...|  385|      1|            Bekasi|\n",
            "| Bantal Boneka Emo...|  320|    659|            Bekasi|\n",
            "| Boneka Popeye dan...|  550|     86|     Jakarta Pusat|\n",
            "| Mainan Naga Susu ...|  320|   4600|    Kab. Tangerang|\n",
            "| Boneka cindy size...|  165|   6300|     Kab. Karawang|\n",
            "| Boneka Serigala/F...|  650|    244|     Jakarta Barat|\n",
            "| Mainan Boneka Kay...|  199|     64|     Jakarta Utara|\n",
            "| Boneka Popeye kec...|  400|     11|     Jakarta Utara|\n",
            "| Dreamtoys96 Bonek...|  660|      2|          Surabaya|\n",
            "| Boneka Popeye Bes...|  550|      2|     Jakarta Utara|\n",
            "|【Produk Populer 2...| 1990|     76|         Tangerang|\n",
            "| Boneka adat Nusan...|  120|   1300|     Kab. Banyumas|\n",
            "| Boneka Ikan Nemo ...|  300|    296|            Bekasi|\n",
            "| (Rumah Grosir) Bo...|  570|    287|     Jakarta Utara|\n",
            "| Boneka Miki Mini ...|  245|   2000|            Bekasi|\n",
            "| Boneka Ikan Hiu M...|  590|    120|            Cimahi|\n",
            "| BONEKA POPEYE & O...|  627|      7|     Kab. Boyolali|\n",
            "| Mainan Anak Bonek...|94999|      7|            Bekasi|\n",
            "| Boneka New Bear L...|  945|   5000|       Kab. Bekasi|\n",
            "|      Boneka Le Sucre|  600|      2|          Denpasar|\n",
            "| Boneka Teletubbie...|  330|   2600|            Bekasi|\n",
            "| Boneka Macan Tige...|  370|    551|            Bekasi|\n",
            "| Boneka Singa/Hari...|  549|     18|      Kab. Bandung|\n",
            "| Mainan Anak karak...|  495|   2500|            Bekasi|\n",
            "| 30cm / 60cm / 80c...|  590|    164|            Cimahi|\n",
            "| Boneka Mickey minnie|  330|   1600|            Bekasi|\n",
            "| BONEKA SHEEP TIMM...|  559|     77|Kab. Bandung Barat|\n",
            "| Boneka Landak Kar...|  300|   1900|            Bekasi|\n",
            "| boneka  kambing d...|  900|    525|     Kab. Karawang|\n",
            "| boneka popeye ata...|  750|      7|  Surakarta (Solo)|\n",
            "| Boneka Putri Duyu...|  500|   1000|            Bekasi|\n",
            "| boneka bear cocok...|  100|  10000|       Tasikmalaya|\n",
            "| ANPAMAN TEMAN ANP...|  600|     41|     Jakarta Timur|\n",
            "| Boneka Roblox Gam...| 3205|   3800|            Bekasi|\n",
            "| Boneka candy kepa...|  300|     27|     Jakarta Utara|\n",
            "| Boneka Didi And F...|  265|     74|            Bekasi|\n",
            "| Boneka Kawaii Hiu...|  410|    198|            Bekasi|\n",
            "|        Boneka Tangan|  120|  10000|     Jakarta Timur|\n",
            "| BONEKA FLANEL PRO...|  180|    185|            Bekasi|\n",
            "| MURAH!! Boneka ul...|  135|   3800|     Kab. Karawang|\n",
            "| dadu jumbo flanel...|  170|   1300|      Kab. Jombang|\n",
            "| Boneka popeye oli...|  970|      8|     Kab. Karawang|\n",
            "| Boneka Popeye The...|  585|      1|     Jakarta Barat|\n",
            "| Nota Live Boneka ...|  947|    842|     Jakarta Barat|\n",
            "| Boneka ULIL ALPHA...|  310|    366|            Bekasi|\n",
            "| Boneka bantal kuc...|  375|   3800|       Kab. Bekasi|\n",
            "| Boneka Popeye TNI...| 1900|     27|       Kab. Kediri|\n",
            "| Mainan Boneka  Po...|  218|   3600|            Bekasi|\n",
            "|   Boneka Popeye uk L|  650|     18|     Jakarta Pusat|\n",
            "| [FREE ONGKIR] Dor...| 8925|    156|     Jakarta Pusat|\n",
            "| Boneka Tangan Kar...|14875|  10000|        Kab. Bogor|\n",
            "| Boneka Dinosaurus...|  469|   8700|            Bekasi|\n",
            "| Mainan Boneka Por...|  250|  10000|            Bekasi|\n",
            "| Boneka CJ 7 kecil...|  325|    649|     Jakarta Barat|\n",
            "|       Popeye - Olive|  430|    300|          Surabaya|\n",
            "| Boneka Mickey Min...|  312|    139|            Bekasi|\n",
            "| Boneka Shaun The ...|  340|      9|            Bekasi|\n",
            "| Boneka Bantal Emo...|  350|   1800|            Bekasi|\n",
            "| Boneka Monkey Ike...|  320|    846|            Bekasi|\n",
            "| Boneka unta padan...| 1450|   2800|     Kab. Karawang|\n",
            "| Boneka Mommy Dadd...|  250|   2000|            Bekasi|\n",
            "| 7 boneka kurcaci ...|  697|     67|     Kab. Sidoarjo|\n",
            "| Boneka Monyet Gibbon|  450|      8|     Jakarta Pusat|\n",
            "| CBT Boneka Popeye...| 6138|     22|          Surabaya|\n",
            "| Boneka 30 - 100 +...| 1180|    258|        Yogyakarta|\n",
            "| Boneka bayi / bon...|  398|   6700|            Malang|\n",
            "| BONEKA BABY HIU S...|26997|   5500|            Bekasi|\n",
            "| Boneka Donald Duc...|  494|     65|          Surabaya|\n",
            "| Boneka bunny keli...|  290|    849|       Kab. Bekasi|\n",
            "| Boneka Monkey Bon...|  280|    186|            Bekasi|\n",
            "| Boneka Popeye - O...|  680|      1|          Surabaya|\n",
            "| BONEKA KECIL / GANCI|  355|      9|     Jakarta Utara|\n",
            "| Boneka Tentara / ...|  600|    691|   Jakarta Selatan|\n",
            "| READY BONEKA PROF...|29999|   1400|      Kab. Bandung|\n",
            "| Boneka Sapi Stand...|  330|   5400|            Bekasi|\n",
            "| BONEKA POPEYE OLI...|  503|      1|       Kab. Madiun|\n",
            "| Boneka Ular Cokel...|  107|    903|     Kab. Karawang|\n",
            "| Boneka teman anpa...|  850|     13|       Kab. Kediri|\n",
            "| BONEKA UNICORN Sa...|  645|    387|            Bekasi|\n",
            "| Boneka Kelinci An...|  850|    133|     Jakarta Pusat|\n",
            "| Boneka Gajah Dudu...|  315|    379|            Bekasi|\n",
            "| Boneka Profesi Pe...|  600|      8|        Kab. Demak|\n",
            "|           BONEKA 3kg|  590|     21|      Kab. Bandung|\n",
            "+---------------------+-----+-------+------------------+\n",
            "\n"
          ]
        }
      ]
    },
    {
      "cell_type": "code",
      "source": [
        "df_cleaned.show(100)"
      ],
      "metadata": {
        "colab": {
          "base_uri": "https://localhost:8080/"
        },
        "id": "bMO-ENO0uCCb",
        "outputId": "4011c32a-a37a-4a39-cd49-69d960bf4fec"
      },
      "execution_count": 58,
      "outputs": [
        {
          "output_type": "stream",
          "name": "stdout",
          "text": [
            "+---------------------+-----+-------+------------------+\n",
            "|          Nama Produk|Harga|Terjual|            Lokasi|\n",
            "+---------------------+-----+-------+------------------+\n",
            "| Boneka Miki Mini ...|  325|   1300|       Kab. Bekasi|\n",
            "| Sepasang boneka I...|  340|   4600|     Kab. Karawang|\n",
            "| BONEKA SESAME/BON...|  950|     22|  Surakarta (Solo)|\n",
            "| Boneka Putri Duyu...|  520|    318|            Bekasi|\n",
            "| 40cm Boneka Pomni...|  350|   2200|            Bekasi|\n",
            "| Mainan Anak Bonek...|  580|     12|     Jakarta Utara|\n",
            "| Boneka ular bahan...|  135|    868|     Kab. Karawang|\n",
            "| Boneka Popeye Paj...|  700|      3|     Jakarta Pusat|\n",
            "| Boneka Jumbo Tedd...|  839|  10000|    Kab. Mojokerto|\n",
            "| Boneka Miki Mini ...|  330|    459|            Bekasi|\n",
            "| Mainan Boneka Lan...|  260|    887|            Bekasi|\n",
            "| Mainan Boneka Luc...|  300|  10000|            Bekasi|\n",
            "| PROMO!!!BONEKA UL...|  102|   1100|     Kab. Karawang|\n",
            "| Boneka Paus biru ...|  385|      1|            Bekasi|\n",
            "| Bantal Boneka Emo...|  320|    659|            Bekasi|\n",
            "| Boneka Popeye dan...|  550|     86|     Jakarta Pusat|\n",
            "| Mainan Naga Susu ...|  320|   4600|    Kab. Tangerang|\n",
            "| Boneka cindy size...|  165|   6300|     Kab. Karawang|\n",
            "| Boneka Serigala/F...|  650|    244|     Jakarta Barat|\n",
            "| Mainan Boneka Kay...|  199|     64|     Jakarta Utara|\n",
            "| Boneka Popeye kec...|  400|     11|     Jakarta Utara|\n",
            "| Dreamtoys96 Bonek...|  660|      2|          Surabaya|\n",
            "| Boneka Popeye Bes...|  550|      2|     Jakarta Utara|\n",
            "|【Produk Populer 2...| 1990|     76|         Tangerang|\n",
            "| Boneka adat Nusan...|  120|   1300|     Kab. Banyumas|\n",
            "| Boneka Ikan Nemo ...|  300|    296|            Bekasi|\n",
            "| (Rumah Grosir) Bo...|  570|    287|     Jakarta Utara|\n",
            "| Boneka Miki Mini ...|  245|   2000|            Bekasi|\n",
            "| Boneka Ikan Hiu M...|  590|    120|            Cimahi|\n",
            "| BONEKA POPEYE & O...|  627|      7|     Kab. Boyolali|\n",
            "| Mainan Anak Bonek...|94999|      7|            Bekasi|\n",
            "| Boneka New Bear L...|  945|   5000|       Kab. Bekasi|\n",
            "|      Boneka Le Sucre|  600|      2|          Denpasar|\n",
            "| Boneka Teletubbie...|  330|   2600|            Bekasi|\n",
            "| Boneka Macan Tige...|  370|    551|            Bekasi|\n",
            "| Boneka Singa/Hari...|  549|     18|      Kab. Bandung|\n",
            "| Mainan Anak karak...|  495|   2500|            Bekasi|\n",
            "| 30cm / 60cm / 80c...|  590|    164|            Cimahi|\n",
            "| Boneka Mickey minnie|  330|   1600|            Bekasi|\n",
            "| BONEKA SHEEP TIMM...|  559|     77|Kab. Bandung Barat|\n",
            "| Boneka Landak Kar...|  300|   1900|            Bekasi|\n",
            "| boneka  kambing d...|  900|    525|     Kab. Karawang|\n",
            "| boneka popeye ata...|  750|      7|  Surakarta (Solo)|\n",
            "| Boneka Putri Duyu...|  500|   1000|            Bekasi|\n",
            "| boneka bear cocok...|  100|  10000|       Tasikmalaya|\n",
            "| ANPAMAN TEMAN ANP...|  600|     41|     Jakarta Timur|\n",
            "| Boneka Roblox Gam...| 3205|   3800|            Bekasi|\n",
            "| Boneka candy kepa...|  300|     27|     Jakarta Utara|\n",
            "| Boneka Didi And F...|  265|     74|            Bekasi|\n",
            "| Boneka Kawaii Hiu...|  410|    198|            Bekasi|\n",
            "|        Boneka Tangan|  120|  10000|     Jakarta Timur|\n",
            "| BONEKA FLANEL PRO...|  180|    185|            Bekasi|\n",
            "| MURAH!! Boneka ul...|  135|   3800|     Kab. Karawang|\n",
            "| dadu jumbo flanel...|  170|   1300|      Kab. Jombang|\n",
            "| Boneka popeye oli...|  970|      8|     Kab. Karawang|\n",
            "| Boneka Popeye The...|  585|      1|     Jakarta Barat|\n",
            "| Nota Live Boneka ...|  947|    842|     Jakarta Barat|\n",
            "| Boneka ULIL ALPHA...|  310|    366|            Bekasi|\n",
            "| Boneka bantal kuc...|  375|   3800|       Kab. Bekasi|\n",
            "| Boneka Popeye TNI...| 1900|     27|       Kab. Kediri|\n",
            "| Mainan Boneka  Po...|  218|   3600|            Bekasi|\n",
            "|   Boneka Popeye uk L|  650|     18|     Jakarta Pusat|\n",
            "| [FREE ONGKIR] Dor...| 8925|    156|     Jakarta Pusat|\n",
            "| Boneka Tangan Kar...|14875|  10000|        Kab. Bogor|\n",
            "| Boneka Dinosaurus...|  469|   8700|            Bekasi|\n",
            "| Mainan Boneka Por...|  250|  10000|            Bekasi|\n",
            "| Boneka CJ 7 kecil...|  325|    649|     Jakarta Barat|\n",
            "|       Popeye - Olive|  430|    300|          Surabaya|\n",
            "| Boneka Mickey Min...|  312|    139|            Bekasi|\n",
            "| Boneka Shaun The ...|  340|      9|            Bekasi|\n",
            "| Boneka Bantal Emo...|  350|   1800|            Bekasi|\n",
            "| Boneka Monkey Ike...|  320|    846|            Bekasi|\n",
            "| Boneka unta padan...| 1450|   2800|     Kab. Karawang|\n",
            "| Boneka Mommy Dadd...|  250|   2000|            Bekasi|\n",
            "| 7 boneka kurcaci ...|  697|     67|     Kab. Sidoarjo|\n",
            "| Boneka Monyet Gibbon|  450|      8|     Jakarta Pusat|\n",
            "| CBT Boneka Popeye...| 6138|     22|          Surabaya|\n",
            "| Boneka 30 - 100 +...| 1180|    258|        Yogyakarta|\n",
            "| Boneka bayi / bon...|  398|   6700|            Malang|\n",
            "| BONEKA BABY HIU S...|26997|   5500|            Bekasi|\n",
            "| Boneka Donald Duc...|  494|     65|          Surabaya|\n",
            "| Boneka bunny keli...|  290|    849|       Kab. Bekasi|\n",
            "| Boneka Monkey Bon...|  280|    186|            Bekasi|\n",
            "| Boneka Popeye - O...|  680|      1|          Surabaya|\n",
            "| BONEKA KECIL / GANCI|  355|      9|     Jakarta Utara|\n",
            "| Boneka Tentara / ...|  600|    691|   Jakarta Selatan|\n",
            "| READY BONEKA PROF...|29999|   1400|      Kab. Bandung|\n",
            "| Boneka Sapi Stand...|  330|   5400|            Bekasi|\n",
            "| BONEKA POPEYE OLI...|  503|      1|       Kab. Madiun|\n",
            "| Boneka Ular Cokel...|  107|    903|     Kab. Karawang|\n",
            "| Boneka teman anpa...|  850|     13|       Kab. Kediri|\n",
            "| BONEKA UNICORN Sa...|  645|    387|            Bekasi|\n",
            "| Boneka Kelinci An...|  850|    133|     Jakarta Pusat|\n",
            "| Boneka Gajah Dudu...|  315|    379|            Bekasi|\n",
            "| Boneka Profesi Pe...|  600|      8|        Kab. Demak|\n",
            "|           BONEKA 3kg|  590|     21|      Kab. Bandung|\n",
            "+---------------------+-----+-------+------------------+\n",
            "\n"
          ]
        }
      ]
    },
    {
      "cell_type": "code",
      "source": [
        "df_cleaned.describe(['Harga', 'Terjual']).show()"
      ],
      "metadata": {
        "colab": {
          "base_uri": "https://localhost:8080/"
        },
        "id": "h_NlwwhSui9N",
        "outputId": "990f31e1-27a4-4b95-d303-77e271fe1eb9"
      },
      "execution_count": 59,
      "outputs": [
        {
          "output_type": "stream",
          "name": "stdout",
          "text": [
            "+-------+------------------+------------------+\n",
            "|summary|             Harga|           Terjual|\n",
            "+-------+------------------+------------------+\n",
            "|  count|                96|                96|\n",
            "|   mean|2392.4270833333335|1690.2291666666667|\n",
            "| stddev|10505.729705606307|2770.4317979206467|\n",
            "|    min|               100|                 1|\n",
            "|    max|             94999|             10000|\n",
            "+-------+------------------+------------------+\n",
            "\n"
          ]
        }
      ]
    },
    {
      "cell_type": "code",
      "source": [
        "from pyspark.sql.functions import corr\n",
        "df_cleaned.select(corr('Harga', 'Terjual')).show()"
      ],
      "metadata": {
        "colab": {
          "base_uri": "https://localhost:8080/"
        },
        "id": "peWkZfKKurgi",
        "outputId": "67cb82b0-47b8-438e-a55a-c0d17efcc3f6"
      },
      "execution_count": 60,
      "outputs": [
        {
          "output_type": "stream",
          "name": "stdout",
          "text": [
            "+--------------------+\n",
            "|corr(Harga, Terjual)|\n",
            "+--------------------+\n",
            "|0.006712635974657086|\n",
            "+--------------------+\n",
            "\n"
          ]
        }
      ]
    },
    {
      "cell_type": "code",
      "source": [
        "from pyspark.sql.functions import sum\n",
        "\n",
        "df_cleaned.groupBy(\"Lokasi\").agg(sum(\"Terjual\").alias(\"total_terjual\")) \\\n",
        "    .orderBy(\"total_terjual\", ascending=False).show()"
      ],
      "metadata": {
        "colab": {
          "base_uri": "https://localhost:8080/"
        },
        "id": "VY5zLeDwu2Sb",
        "outputId": "bc5b05c6-e4c9-4597-f5c4-8fd1d7ebf53c"
      },
      "execution_count": 61,
      "outputs": [
        {
          "output_type": "stream",
          "name": "stdout",
          "text": [
            "+------------------+-------------+\n",
            "|            Lokasi|total_terjual|\n",
            "+------------------+-------------+\n",
            "|            Bekasi|        70547|\n",
            "|     Kab. Karawang|        20904|\n",
            "|       Kab. Bekasi|        10949|\n",
            "|     Jakarta Timur|        10041|\n",
            "|       Tasikmalaya|        10000|\n",
            "|        Kab. Bogor|        10000|\n",
            "|    Kab. Mojokerto|        10000|\n",
            "|            Malang|         6700|\n",
            "|    Kab. Tangerang|         4600|\n",
            "|     Jakarta Barat|         1736|\n",
            "|      Kab. Bandung|         1439|\n",
            "|      Kab. Jombang|         1300|\n",
            "|     Kab. Banyumas|         1300|\n",
            "|   Jakarta Selatan|          691|\n",
            "|     Jakarta Utara|          412|\n",
            "|     Jakarta Pusat|          404|\n",
            "|          Surabaya|          390|\n",
            "|            Cimahi|          284|\n",
            "|        Yogyakarta|          258|\n",
            "|Kab. Bandung Barat|           77|\n",
            "+------------------+-------------+\n",
            "only showing top 20 rows\n",
            "\n"
          ]
        }
      ]
    },
    {
      "cell_type": "code",
      "source": [
        "from pyspark.ml.feature import Tokenizer, StopWordsRemover, CountVectorizer\n",
        "\n",
        "tokenizer = Tokenizer(inputCol=\"Nama Produk\", outputCol=\"words\")\n",
        "wordsData = tokenizer.transform(df_cleaned)\n",
        "\n",
        "remover = StopWordsRemover(inputCol=\"words\", outputCol=\"filtered\")\n",
        "filteredData = remover.transform(wordsData)\n",
        "\n",
        "vectorizer = CountVectorizer(inputCol=\"filtered\", outputCol=\"features\")\n",
        "model = vectorizer.fit(filteredData)\n",
        "result = model.transform(filteredData)\n",
        "\n",
        "# Tampilkan 10 kata yang paling sering muncul\n",
        "vocab = model.vocabulary\n",
        "frequencies = result.select(\"features\").rdd \\\n",
        "    .map(lambda row: row.features.toArray()) \\\n",
        "    .reduce(lambda x, y: x + y)\n",
        "\n",
        "for word, freq in sorted(zip(vocab, frequencies), key=lambda x: -x[1])[:10]:\n",
        "    print(word, int(freq))"
      ],
      "metadata": {
        "colab": {
          "base_uri": "https://localhost:8080/"
        },
        "id": "pZ4VAjqBvKms",
        "outputId": "3c5bfc8c-8ea7-4227-f78c-0bde5afe8a06"
      },
      "execution_count": 62,
      "outputs": [
        {
          "output_type": "stream",
          "name": "stdout",
          "text": [
            "boneka 119\n",
            "mainan 25\n",
            "/ 16\n",
            "lembut 15\n",
            "ukuran 15\n",
            "anak 14\n",
            "sni 14\n",
            "popeye 14\n",
            "bahan 12\n",
            "plush 10\n"
          ]
        }
      ]
    },
    {
      "cell_type": "code",
      "source": [
        "#tokenize\n",
        "from pyspark.ml.feature import Tokenizer\n",
        "\n",
        "tokenizer = Tokenizer(inputCol=\"Nama Produk\", outputCol=\"items\")\n",
        "data_tokenized = tokenizer.transform(df_cleaned)"
      ],
      "metadata": {
        "id": "xL4Nxr5AxJij"
      },
      "execution_count": 63,
      "outputs": []
    },
    {
      "cell_type": "code",
      "source": [
        "from pyspark.ml.fpm import FPGrowth\n",
        "from pyspark.sql.functions import array_distinct\n",
        "\n",
        "# Apply array_distinct to the \"items\" column to remove duplicates\n",
        "data_tokenized_unique = data_tokenized.withColumn(\"items\", array_distinct(\"items\"))\n",
        "\n",
        "# Now, apply FPGrowth to the data with unique items\n",
        "fpGrowth = FPGrowth(itemsCol=\"items\", minSupport=0.01, minConfidence=0.3)\n",
        "model = fpGrowth.fit(data_tokenized_unique)"
      ],
      "metadata": {
        "id": "r228DCR2xSUR"
      },
      "execution_count": 64,
      "outputs": []
    },
    {
      "cell_type": "code",
      "source": [
        "model.freqItemsets.show(100, truncate=False)"
      ],
      "metadata": {
        "colab": {
          "base_uri": "https://localhost:8080/"
        },
        "id": "mRZG7I8dxjTS",
        "outputId": "1563c02e-a782-48d8-933b-bff6b488c739"
      },
      "execution_count": 65,
      "outputs": [
        {
          "output_type": "stream",
          "name": "stdout",
          "text": [
            "+---------------------------------------------------------+----+\n",
            "|items                                                    |freq|\n",
            "+---------------------------------------------------------+----+\n",
            "|[size]                                                   |1   |\n",
            "|[size, ukuran]                                           |1   |\n",
            "|[size, ukuran, boneka]                                   |1   |\n",
            "|[size, m]                                                |1   |\n",
            "|[size, m, ukuran]                                        |1   |\n",
            "|[size, m, ukuran, boneka]                                |1   |\n",
            "|[size, m, 40cm]                                          |1   |\n",
            "|[size, m, 40cm, ukuran]                                  |1   |\n",
            "|[size, m, 40cm, ukuran, boneka]                          |1   |\n",
            "|[size, m, 40cm, boneka]                                  |1   |\n",
            "|[size, m, boneka]                                        |1   |\n",
            "|[size, 40cm]                                             |1   |\n",
            "|[size, 40cm, ukuran]                                     |1   |\n",
            "|[size, 40cm, ukuran, boneka]                             |1   |\n",
            "|[size, 40cm, boneka]                                     |1   |\n",
            "|[size, boneka]                                           |1   |\n",
            "|[roblox]                                                 |1   |\n",
            "|[roblox, tahun]                                          |1   |\n",
            "|[roblox, tahun, ulang]                                   |1   |\n",
            "|[roblox, tahun, ulang, anak]                             |1   |\n",
            "|[roblox, tahun, ulang, anak, boneka]                     |1   |\n",
            "|[roblox, tahun, ulang, boneka]                           |1   |\n",
            "|[roblox, tahun, anak]                                    |1   |\n",
            "|[roblox, tahun, anak, boneka]                            |1   |\n",
            "|[roblox, tahun, boneka]                                  |1   |\n",
            "|[roblox, ulang]                                          |1   |\n",
            "|[roblox, ulang, anak]                                    |1   |\n",
            "|[roblox, ulang, anak, boneka]                            |1   |\n",
            "|[roblox, ulang, boneka]                                  |1   |\n",
            "|[roblox, impor]                                          |1   |\n",
            "|[roblox, impor, tahun]                                   |1   |\n",
            "|[roblox, impor, tahun, ulang]                            |1   |\n",
            "|[roblox, impor, tahun, ulang, anak]                      |1   |\n",
            "|[roblox, impor, tahun, ulang, anak, boneka]              |1   |\n",
            "|[roblox, impor, tahun, ulang, boneka]                    |1   |\n",
            "|[roblox, impor, tahun, anak]                             |1   |\n",
            "|[roblox, impor, tahun, anak, boneka]                     |1   |\n",
            "|[roblox, impor, tahun, boneka]                           |1   |\n",
            "|[roblox, impor, ulang]                                   |1   |\n",
            "|[roblox, impor, ulang, anak]                             |1   |\n",
            "|[roblox, impor, ulang, anak, boneka]                     |1   |\n",
            "|[roblox, impor, ulang, boneka]                           |1   |\n",
            "|[roblox, impor, anak]                                    |1   |\n",
            "|[roblox, impor, anak, boneka]                            |1   |\n",
            "|[roblox, impor, kado]                                    |1   |\n",
            "|[roblox, impor, kado, tahun]                             |1   |\n",
            "|[roblox, impor, kado, tahun, ulang]                      |1   |\n",
            "|[roblox, impor, kado, tahun, ulang, anak]                |1   |\n",
            "|[roblox, impor, kado, tahun, ulang, anak, boneka]        |1   |\n",
            "|[roblox, impor, kado, tahun, ulang, boneka]              |1   |\n",
            "|[roblox, impor, kado, tahun, anak]                       |1   |\n",
            "|[roblox, impor, kado, tahun, anak, boneka]               |1   |\n",
            "|[roblox, impor, kado, tahun, boneka]                     |1   |\n",
            "|[roblox, impor, kado, ulang]                             |1   |\n",
            "|[roblox, impor, kado, ulang, anak]                       |1   |\n",
            "|[roblox, impor, kado, ulang, anak, boneka]               |1   |\n",
            "|[roblox, impor, kado, ulang, boneka]                     |1   |\n",
            "|[roblox, impor, kado, anak]                              |1   |\n",
            "|[roblox, impor, kado, anak, boneka]                      |1   |\n",
            "|[roblox, impor, kado, hadiah]                            |1   |\n",
            "|[roblox, impor, kado, hadiah, tahun]                     |1   |\n",
            "|[roblox, impor, kado, hadiah, tahun, ulang]              |1   |\n",
            "|[roblox, impor, kado, hadiah, tahun, ulang, anak]        |1   |\n",
            "|[roblox, impor, kado, hadiah, tahun, ulang, anak, boneka]|1   |\n",
            "|[roblox, impor, kado, hadiah, tahun, ulang, boneka]      |1   |\n",
            "|[roblox, impor, kado, hadiah, tahun, anak]               |1   |\n",
            "|[roblox, impor, kado, hadiah, tahun, anak, boneka]       |1   |\n",
            "|[roblox, impor, kado, hadiah, tahun, boneka]             |1   |\n",
            "|[roblox, impor, kado, hadiah, ulang]                     |1   |\n",
            "|[roblox, impor, kado, hadiah, ulang, anak]               |1   |\n",
            "|[roblox, impor, kado, hadiah, ulang, anak, boneka]       |1   |\n",
            "|[roblox, impor, kado, hadiah, ulang, boneka]             |1   |\n",
            "|[roblox, impor, kado, hadiah, anak]                      |1   |\n",
            "|[roblox, impor, kado, hadiah, anak, boneka]              |1   |\n",
            "|[roblox, impor, kado, hadiah, boneka]                    |1   |\n",
            "|[roblox, impor, kado, boneka]                            |1   |\n",
            "|[roblox, impor, 30cm]                                    |1   |\n",
            "|[roblox, impor, 30cm, tahun]                             |1   |\n",
            "|[roblox, impor, 30cm, tahun, ulang]                      |1   |\n",
            "|[roblox, impor, 30cm, tahun, ulang, anak]                |1   |\n",
            "|[roblox, impor, 30cm, tahun, ulang, anak, boneka]        |1   |\n",
            "|[roblox, impor, 30cm, tahun, ulang, boneka]              |1   |\n",
            "|[roblox, impor, 30cm, tahun, anak]                       |1   |\n",
            "|[roblox, impor, 30cm, tahun, anak, boneka]               |1   |\n",
            "|[roblox, impor, 30cm, tahun, boneka]                     |1   |\n",
            "|[roblox, impor, 30cm, ulang]                             |1   |\n",
            "|[roblox, impor, 30cm, ulang, anak]                       |1   |\n",
            "|[roblox, impor, 30cm, ulang, anak, boneka]               |1   |\n",
            "|[roblox, impor, 30cm, ulang, boneka]                     |1   |\n",
            "|[roblox, impor, 30cm, anak]                              |1   |\n",
            "|[roblox, impor, 30cm, anak, boneka]                      |1   |\n",
            "|[roblox, impor, 30cm, kado]                              |1   |\n",
            "|[roblox, impor, 30cm, kado, tahun]                       |1   |\n",
            "|[roblox, impor, 30cm, kado, tahun, ulang]                |1   |\n",
            "|[roblox, impor, 30cm, kado, tahun, ulang, anak]          |1   |\n",
            "|[roblox, impor, 30cm, kado, tahun, ulang, anak, boneka]  |1   |\n",
            "|[roblox, impor, 30cm, kado, tahun, ulang, boneka]        |1   |\n",
            "|[roblox, impor, 30cm, kado, tahun, anak]                 |1   |\n",
            "|[roblox, impor, 30cm, kado, tahun, anak, boneka]         |1   |\n",
            "|[roblox, impor, 30cm, kado, tahun, boneka]               |1   |\n",
            "+---------------------------------------------------------+----+\n",
            "only showing top 100 rows\n",
            "\n"
          ]
        }
      ]
    },
    {
      "cell_type": "code",
      "source": [
        "model.associationRules.show(truncate=False)"
      ],
      "metadata": {
        "colab": {
          "base_uri": "https://localhost:8080/"
        },
        "id": "mVR8FKo_yDUm",
        "outputId": "f8aaa3ec-77ee-4423-e284-21de3e74eb67"
      },
      "execution_count": 67,
      "outputs": [
        {
          "output_type": "stream",
          "name": "stdout",
          "text": [
            "+----------------------------------------------------------------------+----------+----------+------------------+--------------------+\n",
            "|antecedent                                                            |consequent|confidence|lift              |support             |\n",
            "+----------------------------------------------------------------------+----------+----------+------------------+--------------------+\n",
            "|[90, laut, hiu, hadiah, tahun, bantal, lembut, ukuran, mainan, boneka]|[paus]    |1.0       |48.0              |0.010416666666666666|\n",
            "|[90, laut, hiu, hadiah, tahun, bantal, lembut, ukuran, mainan, boneka]|[karakter]|1.0       |19.2              |0.010416666666666666|\n",
            "|[90, laut, hiu, hadiah, tahun, bantal, lembut, ukuran, mainan, boneka]|[ulang]   |1.0       |13.714285714285714|0.010416666666666666|\n",
            "|[90, laut, hiu, hadiah, tahun, bantal, lembut, ukuran, mainan, boneka]|[besar]   |1.0       |12.0              |0.010416666666666666|\n",
            "|[90, laut, hiu, hadiah, tahun, bantal, lembut, ukuran, mainan, boneka]|[anak]    |1.0       |8.727272727272728 |0.010416666666666666|\n",
            "|[90, laut, hiu, hadiah, tahun, bantal, lembut, ukuran, mainan, boneka]|[mewah]   |1.0       |13.714285714285714|0.010416666666666666|\n",
            "|[90, laut, hiu, hadiah, tahun, bantal, lembut, ukuran, mainan, boneka]|[cm]      |1.0       |13.714285714285714|0.010416666666666666|\n",
            "|[90, laut, hiu, hadiah, tahun, bantal, lembut, ukuran, mainan, boneka]|[pembunuh]|1.0       |96.0              |0.010416666666666666|\n",
            "|[90, laut, hiu, hadiah, tahun, bantal, lembut, ukuran, mainan, boneka]|[animals] |1.0       |48.0              |0.010416666666666666|\n",
            "|[90, laut, hiu, hadiah, tahun, bantal, lembut, ukuran, mainan, boneka]|[biru]    |1.0       |48.0              |0.010416666666666666|\n",
            "|[90, laut, hiu, hadiah, tahun, bantal, lembut, ukuran, mainan, boneka]|[hewan]   |1.0       |32.0              |0.010416666666666666|\n",
            "|[laut, paus, biru, hewan, hadiah, ulang, mewah, cm, anak, ukuran]     |[pembunuh]|1.0       |96.0              |0.010416666666666666|\n",
            "|[laut, paus, biru, hewan, hadiah, ulang, mewah, cm, anak, ukuran]     |[90]      |1.0       |96.0              |0.010416666666666666|\n",
            "|[laut, paus, biru, hewan, hadiah, ulang, mewah, cm, anak, ukuran]     |[animals] |1.0       |48.0              |0.010416666666666666|\n",
            "|[laut, paus, biru, hewan, hadiah, ulang, mewah, cm, anak, ukuran]     |[hiu]     |1.0       |19.2              |0.010416666666666666|\n",
            "|[laut, paus, biru, hewan, hadiah, ulang, mewah, cm, anak, ukuran]     |[karakter]|1.0       |19.2              |0.010416666666666666|\n",
            "|[laut, paus, biru, hewan, hadiah, ulang, mewah, cm, anak, ukuran]     |[tahun]   |1.0       |16.0              |0.010416666666666666|\n",
            "|[laut, paus, biru, hewan, hadiah, ulang, mewah, cm, anak, ukuran]     |[besar]   |1.0       |12.0              |0.010416666666666666|\n",
            "|[laut, paus, biru, hewan, hadiah, ulang, mewah, cm, anak, ukuran]     |[mainan]  |1.0       |5.333333333333333 |0.010416666666666666|\n",
            "|[laut, paus, biru, hewan, hadiah, ulang, mewah, cm, anak, ukuran]     |[boneka]  |1.0       |1.032258064516129 |0.010416666666666666|\n",
            "+----------------------------------------------------------------------+----------+----------+------------------+--------------------+\n",
            "only showing top 20 rows\n",
            "\n"
          ]
        }
      ]
    },
    {
      "cell_type": "code",
      "source": [
        "model.associationRules.filter(\"array_contains(antecedent, 'murah')\").show(truncate=False)"
      ],
      "metadata": {
        "colab": {
          "base_uri": "https://localhost:8080/"
        },
        "id": "X73Elu05ywYz",
        "outputId": "6385866a-653c-4b28-8552-79ab767dd724"
      },
      "execution_count": 68,
      "outputs": [
        {
          "output_type": "stream",
          "name": "stdout",
          "text": [
            "+-----------------------------------------------+----------+----------+-----------------+--------------------+\n",
            "|antecedent                                     |consequent|confidence|lift             |support             |\n",
            "+-----------------------------------------------+----------+----------+-----------------+--------------------+\n",
            "|[murah, ee, mobil, bantal, /]                  |[sofa]    |1.0       |48.0             |0.010416666666666666|\n",
            "|[murah, ee, mobil, bantal, /]                  |[boneka]  |1.0       |1.032258064516129|0.010416666666666666|\n",
            "|[murah, ee, mobil, bantal, /]                  |[pup]     |1.0       |48.0             |0.010416666666666666|\n",
            "|[murah, ee, mobil, bantal, /]                  |[emoticon]|1.0       |48.0             |0.010416666666666666|\n",
            "|[murah, ee, emoticon, mobil, sofa, pup, bantal]|[/]       |1.0       |8.0              |0.010416666666666666|\n",
            "|[murah, ee, emoticon, mobil, sofa, pup, bantal]|[boneka]  |1.0       |1.032258064516129|0.010416666666666666|\n",
            "|[murah, sofa, pup, bantal, /, boneka]          |[mobil]   |1.0       |48.0             |0.010416666666666666|\n",
            "|[murah, sofa, pup, bantal, /, boneka]          |[ee]      |1.0       |48.0             |0.010416666666666666|\n",
            "|[murah, sofa, pup, bantal, /, boneka]          |[emoticon]|1.0       |48.0             |0.010416666666666666|\n",
            "|[murah, emoticon, mobil, sofa, /]              |[ee]      |1.0       |48.0             |0.010416666666666666|\n",
            "|[murah, emoticon, mobil, sofa, /]              |[bantal]  |1.0       |16.0             |0.010416666666666666|\n",
            "|[murah, emoticon, mobil, sofa, /]              |[pup]     |1.0       |48.0             |0.010416666666666666|\n",
            "|[murah, emoticon, mobil, sofa, /]              |[boneka]  |1.0       |1.032258064516129|0.010416666666666666|\n",
            "|[murah, emoticon, mobil, /, boneka]            |[ee]      |1.0       |48.0             |0.010416666666666666|\n",
            "|[murah, emoticon, mobil, /, boneka]            |[sofa]    |1.0       |48.0             |0.010416666666666666|\n",
            "|[murah, emoticon, mobil, /, boneka]            |[bantal]  |1.0       |16.0             |0.010416666666666666|\n",
            "|[murah, emoticon, mobil, /, boneka]            |[pup]     |1.0       |48.0             |0.010416666666666666|\n",
            "|[murah, ee, emoticon, pup, /, boneka]          |[mobil]   |1.0       |48.0             |0.010416666666666666|\n",
            "|[murah, ee, emoticon, pup, /, boneka]          |[sofa]    |1.0       |48.0             |0.010416666666666666|\n",
            "|[murah, ee, emoticon, pup, /, boneka]          |[bantal]  |1.0       |16.0             |0.010416666666666666|\n",
            "+-----------------------------------------------+----------+----------+-----------------+--------------------+\n",
            "only showing top 20 rows\n",
            "\n"
          ]
        }
      ]
    },
    {
      "cell_type": "code",
      "source": [
        "!mkdir -p /content/output/"
      ],
      "metadata": {
        "id": "d68UFPEkVGaB"
      },
      "execution_count": 70,
      "outputs": []
    },
    {
      "cell_type": "code",
      "source": [
        "df_cleaned.write.csv('/content/output/boneka_cleaned', header=True, mode=\"overwrite\")"
      ],
      "metadata": {
        "id": "Rsemzpx8wpw6"
      },
      "execution_count": 73,
      "outputs": []
    }
  ]
}